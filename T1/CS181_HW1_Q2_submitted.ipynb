{
 "cells": [
  {
   "cell_type": "markdown",
   "metadata": {},
   "source": [
    "# CS 181, Spring 2016\n",
    "## Homework 1, Problem 3"
   ]
  },
  {
   "cell_type": "markdown",
   "metadata": {},
   "source": [
    "### 1. Prepare\n",
    "#### Import"
   ]
  },
  {
   "cell_type": "code",
   "execution_count": 1,
   "metadata": {
    "collapsed": true
   },
   "outputs": [],
   "source": [
    "# import packages\n",
    "import csv\n",
    "import numpy as np\n",
    "import matplotlib.pyplot as plt\n",
    "from sklearn.metrics import mean_squared_error"
   ]
  },
  {
   "cell_type": "markdown",
   "metadata": {},
   "source": [
    "#### Read in data"
   ]
  },
  {
   "cell_type": "code",
   "execution_count": 3,
   "metadata": {
    "collapsed": true
   },
   "outputs": [],
   "source": [
    "# read in data:\n",
    "# (1) store data name\n",
    "csv_filename = 'year-sunspots-republicans.csv'\n",
    "# (2) creat column names\n",
    "years  = []\n",
    "republican_counts = []\n",
    "sunspot_counts = []\n",
    "\n",
    "with open(csv_filename, 'r') as csv_fh:\n",
    "    \n",
    "    # Parse as a CSV file.\n",
    "    reader = csv.reader(csv_fh)\n",
    "    \n",
    "    # Skip the header line.\n",
    "    next(reader, None)\n",
    "    \n",
    "    # Loop over the file.\n",
    "    for row in reader:\n",
    "        \n",
    "        # Store the data.\n",
    "        years.append(float(row[0]))\n",
    "        sunspot_counts.append(float(row[1]))\n",
    "        republican_counts.append(float(row[2]))\n",
    "        \n",
    "# Turn the data into numpy arrays.\n",
    "years  = np.array(years)\n",
    "republican_counts = np.array(republican_counts)\n",
    "sunspot_counts = np.array(sunspot_counts)\n",
    "last_year = 1985\n",
    "\n",
    "# select data before 1985\n",
    "sunspot = sunspot_counts[years<last_year]\n",
    "republican = republican_counts[years<last_year]"
   ]
  },
  {
   "cell_type": "markdown",
   "metadata": {},
   "source": [
    "#### plot data"
   ]
  },
  {
   "cell_type": "code",
   "execution_count": 5,
   "metadata": {
    "collapsed": true
   },
   "outputs": [],
   "source": [
    "# Plot the data.\n",
    "fig, ax = plt.subplots(3, 1,figsize=(15, 18))\n",
    "plt.suptitle(\"Plot of Data\", fontsize=25, y = 0.92)\n",
    "ax[0].scatter(years, republican_counts, s=70)\n",
    "ax[0].set_xlabel(\"Year\")\n",
    "ax[0].set_ylabel(\"Number of Republicans in Congress\")\n",
    "\n",
    "ax[1].scatter(years, sunspot_counts, s=70)\n",
    "ax[1].set_xlabel(\"Year\")\n",
    "ax[1].set_ylabel(\"Number of Sunspots\")\n",
    "\n",
    "ax[2].scatter(sunspot, republican, s=70)\n",
    "ax[2].set_xlabel(\"Number of Sunspots\")\n",
    "ax[2].set_ylabel(\"Number of Republicans in Congress\")\n",
    "\n",
    "plt.savefig('data.png')"
   ]
  },
  {
   "cell_type": "markdown",
   "metadata": {},
   "source": [
    "### A. years vs number of Republicans\n",
    "#### simplest version"
   ]
  },
  {
   "cell_type": "code",
   "execution_count": 4,
   "metadata": {
    "collapsed": true
   },
   "outputs": [],
   "source": [
    "###################################################\n",
    "#          years vs number of Republicans         #\n",
    "###################################################\n",
    "#(1) the simplest basis: \n",
    "# matrix for input\n",
    "X = np.vstack((np.ones(years.shape), years)).T\n",
    "##  1st column: offset(1.0)\n",
    "##  2nd column: time\n",
    "\n",
    "# Nothing fancy for outputs.\n",
    "Y = republican_counts\n",
    "\n",
    "# Find the regression weights using the Moore-Penrose pseudoinverse.\n",
    "w = np.linalg.solve(np.dot(X.T, X) , np.dot(X.T, Y))\n",
    "\n",
    "# compute mean square error\n",
    "Yhat  = np.dot(X, w)\n",
    "mse = mean_squared_error(republican_counts, Yhat)\n",
    "\n",
    "# Compute the regression line on a grid of inputs.\n",
    "grid_years = np.linspace(1960, 2005, 200)\n",
    "grid_X = np.vstack((np.ones(grid_years.shape), grid_years))\n",
    "grid_Yhat  = np.dot(grid_X.T, w)\n",
    "\n",
    "# TODO: plot and report sum of squared error for each basis\n",
    "# Plot the data and the regression line.\n",
    "plt.figure(figsize=(15,6))\n",
    "plt.plot(years, republican_counts, 'o', grid_years, grid_Yhat, '-')\n",
    "plt.xlabel(\"Year\")\n",
    "plt.ylabel(\"Number of Republicans in Congress\")\n",
    "plt.figtext(0.5, 0, \"MSE = %s\" % mse, ha=\"center\")\n",
    "plt.savefig('simplest.png')"
   ]
  },
  {
   "cell_type": "markdown",
   "metadata": {},
   "source": [
    "#### with basis functions "
   ]
  },
  {
   "cell_type": "code",
   "execution_count": 5,
   "metadata": {
    "collapsed": true
   },
   "outputs": [],
   "source": [
    "#(2) basis functions:\n",
    "def make_basis_a(i):\n",
    "    X = np.ones(i.shape).T   \n",
    "    for j in range(1, 6):\n",
    "        X = np.vstack((X, i**j))\n",
    "    return X.T\n",
    "\n",
    "def make_basis_b(i):\n",
    "    X = np.ones(i.shape).T   \n",
    "    for j in range(1960, 2015, 5):\n",
    "        X = np.vstack((X, np.exp(np.divide(np.subtract(0,(i-j)**2),25))))\n",
    "    return X.T\n",
    "\n",
    "def make_basis_c(i):\n",
    "    X = np.ones(i.shape).T   \n",
    "    for j in range(1, 6):\n",
    "        X = np.vstack((X, np.cos(i/j)))\n",
    "    return X.T\n",
    "\n",
    "def make_basis_d(i):\n",
    "    X = np.ones(i.shape).T   \n",
    "    for j in range(1, 26):\n",
    "        X = np.vstack((X, np.cos(i/j)))\n",
    "    return X.T"
   ]
  },
  {
   "cell_type": "code",
   "execution_count": 6,
   "metadata": {
    "collapsed": true
   },
   "outputs": [],
   "source": [
    "# matrix for inputs\n",
    "X_a = make_basis_a(years)\n",
    "X_b = make_basis_b(years)\n",
    "X_c = make_basis_c(years)\n",
    "X_d = make_basis_d(years)\n",
    "\n",
    "# Nothing fancy for outputs.\n",
    "Y = republican_counts\n",
    "\n",
    "# Find the regression weights using the Moore-Penrose pseudoinverse.\n",
    "w_a = np.linalg.solve(np.dot(X_a.T, X_a) , np.dot(X_a.T, Y))\n",
    "w_b = np.linalg.solve(np.dot(X_b.T, X_b) , np.dot(X_b.T, Y))\n",
    "w_c = np.linalg.solve(np.dot(X_c.T, X_c) , np.dot(X_c.T, Y))\n",
    "w_d = np.linalg.solve(np.dot(X_d.T, X_d) , np.dot(X_d.T, Y))\n",
    "\n",
    "# compute mean square error\n",
    "Yhat_a  = np.dot(X_a, w_a)\n",
    "mse_a = mean_squared_error(republican_counts, Yhat_a)\n",
    "\n",
    "Yhat_b  = np.dot(X_b, w_b)\n",
    "mse_b = mean_squared_error(republican_counts, Yhat_b)\n",
    "\n",
    "Yhat_c  = np.dot(X_c, w_c)\n",
    "mse_c = mean_squared_error(republican_counts, Yhat_c)\n",
    "\n",
    "Yhat_d  = np.dot(X_d, w_d)\n",
    "mse_d = mean_squared_error(republican_counts, Yhat_d)\n",
    "\n",
    "# Compute the regression line on a grid of inputs.\n",
    "grid_years = np.linspace(1960, 2005, 200)\n",
    "grid_X_a = make_basis_a(grid_years)\n",
    "grid_Yhat_a  = np.dot(grid_X_a, w_a)\n",
    "\n",
    "grid_years = np.linspace(1960, 2005, 200)\n",
    "grid_X_b = make_basis_b(grid_years)\n",
    "grid_Yhat_b  = np.dot(grid_X_b, w_b)\n",
    "\n",
    "grid_years = np.linspace(1960, 2005, 200)\n",
    "grid_X_c = make_basis_c(grid_years)\n",
    "grid_Yhat_c  = np.dot(grid_X_c, w_c)\n",
    "\n",
    "grid_years = np.linspace(1960, 2005, 200)\n",
    "grid_X_d = make_basis_d(grid_years)\n",
    "grid_Yhat_d  = np.dot(grid_X_d, w_d)\n",
    "\n",
    "# TODO: plot and report sum of squared error for each basis\n",
    "# Plot the data and the regression line.\n",
    "plt.figure(figsize=(15,6))\n",
    "plt.plot(years, republican_counts, 'o', grid_years, grid_Yhat_a, '-')\n",
    "plt.xlabel(\"Year\")\n",
    "plt.ylabel(\"Number of Republicans in Congress\")\n",
    "plt.figtext(0.5, 0, \"MSE = %s\" % mse_a, ha=\"center\")\n",
    "plt.savefig('a.png')\n",
    "\n",
    "plt.figure(figsize=(15,6))\n",
    "plt.plot(years, republican_counts, 'o', grid_years, grid_Yhat_b, '-')\n",
    "plt.xlabel(\"Year\")\n",
    "plt.ylabel(\"Number of Republicans in Congress\")\n",
    "plt.figtext(0.5, 0, \"MSE = %s\" % mse_b, ha=\"center\")\n",
    "plt.savefig('b.png')\n",
    "\n",
    "plt.figure(figsize=(15,6))\n",
    "plt.plot(years, republican_counts, 'o', grid_years, grid_Yhat_c, '-')\n",
    "plt.xlabel(\"Year\")\n",
    "plt.ylabel(\"Number of Republicans in Congress\")\n",
    "plt.figtext(0.5, 0, \"MSE = %s\" % mse_a, ha=\"center\")\n",
    "plt.savefig('c.png')\n",
    "\n",
    "plt.figure(figsize=(15,6))\n",
    "plt.plot(years, republican_counts, 'o', grid_years, grid_Yhat_d, '-')\n",
    "plt.xlabel(\"Year\")\n",
    "plt.ylabel(\"Number of Republicans in Congress\")\n",
    "plt.figtext(0.5, 0, \"MSE = %s\" % mse_d, ha=\"center\")\n",
    "plt.savefig('d.png')\n"
   ]
  },
  {
   "cell_type": "markdown",
   "metadata": {},
   "source": [
    "### B. sunspots vs number of republicans \n",
    "#### simplest version"
   ]
  },
  {
   "cell_type": "code",
   "execution_count": 12,
   "metadata": {
    "collapsed": true
   },
   "outputs": [],
   "source": [
    "###################################################\n",
    "#       sunspots vs number of republicans         #\n",
    "###################################################\n",
    "#(1) the simplest basis: \n",
    "# matrix for input\n",
    "X_0_2 = np.vstack((np.ones(sunspot.shape), sunspot)).T\n",
    "##  1st column: time\n",
    "##  2nd column: offset(1.0)\n",
    "\n",
    "# Nothing fancy for outputs.\n",
    "Y_2 = republican\n",
    "\n",
    "# Find the regression weights using the Moore-Penrose pseudoinverse.\n",
    "w_2 = np.linalg.solve(np.dot(X_0_2.T, X_0_2) , np.dot(X_0_2.T, Y_2))\n",
    "\n",
    "# compute mean square error\n",
    "Yhat_2  = np.dot(X_0_2, w_2)\n",
    "mse_2 = mean_squared_error(republican, Yhat_2)\n",
    "\n",
    "# Compute the regression line on a grid of inputs.\n",
    "grid_sunspot = np.linspace(10.2, 159, 200)\n",
    "grid_X_0_2 = np.vstack((np.ones(grid_sunspot.shape), grid_sunspot))\n",
    "grid_Yhat_2  = np.dot(grid_X_0_2.T, w_2)\n",
    "\n",
    "# TODO: plot and report sum of squared error for each basis\n",
    "# Plot the data and the regression line.\n",
    "plt.figure(figsize=(15,6))\n",
    "plt.plot(sunspot, republican, 'o', grid_sunspot, grid_Yhat_2, '-')\n",
    "plt.xlabel(\"Number of Sunspots\")\n",
    "plt.ylabel(\"Number of Republicans in Congress\")\n",
    "plt.figtext(0.5, 0, \"MSE = %s\" % mse, ha=\"center\")\n",
    "plt.savefig('simplest_2.png')"
   ]
  },
  {
   "cell_type": "markdown",
   "metadata": {},
   "source": [
    "#### with basis functions "
   ]
  },
  {
   "cell_type": "code",
   "execution_count": 13,
   "metadata": {
    "collapsed": true
   },
   "outputs": [],
   "source": [
    "# (2) matrix for inputs:\n",
    "X_a_2 = make_basis_a(sunspot)\n",
    "X_c_2 = make_basis_c(sunspot)\n",
    "X_d_2 = make_basis_d(sunspot)\n",
    "\n",
    "# Nothing fancy for outputs.\n",
    "Y_2 = republican\n",
    "\n",
    "# Find the regression weights using the Moore-Penrose pseudoinverse.\n",
    "w_a_2 = np.linalg.solve(np.dot(X_a_2.T, X_a_2) , np.dot(X_a_2.T, Y_2))\n",
    "w_c_2 = np.linalg.solve(np.dot(X_c_2.T, X_c_2) , np.dot(X_c_2.T, Y_2))\n",
    "w_d_2 = np.linalg.solve(np.dot(X_d_2.T, X_d_2) , np.dot(X_d_2.T, Y_2))\n",
    "\n",
    "# compute mean square error\n",
    "Yhat_a_2  = np.dot(X_a_2, w_a_2)\n",
    "mse_a_2 = mean_squared_error(Y_2, Yhat_a_2)\n",
    "\n",
    "Yhat_c_2  = np.dot(X_c_2, w_c_2)\n",
    "mse_c_2 = mean_squared_error(Y_2, Yhat_c_2)\n",
    "\n",
    "Yhat_d_2  = np.dot(X_d_2, w_d_2)\n",
    "mse_d_2 = mean_squared_error(Y_2, Yhat_d_2)\n",
    "\n",
    "# Compute the regression line on a grid of inputs.\n",
    "grid_sunspot = np.linspace(10.2, 159, 200)\n",
    "grid_X_a_2 = make_basis_a(grid_sunspot)\n",
    "grid_Yhat_a_2  = np.dot(grid_X_a_2, w_a_2)\n",
    "\n",
    "grid_sunspot = np.linspace(10.2, 159, 200)\n",
    "grid_X_c_2 = make_basis_c(grid_sunspot)\n",
    "grid_Yhat_c_2  = np.dot(grid_X_c_2, w_c_2)\n",
    "\n",
    "grid_sunspot = np.linspace(10.2, 159, 200)\n",
    "grid_X_d_2 = make_basis_d(grid_sunspot)\n",
    "grid_Yhat_d_2  = np.dot(grid_X_d_2, w_d_2)\n",
    "\n",
    "# TODO: plot and report sum of squared error for each basis\n",
    "# Plot the data and the regression line.\n",
    "plt.figure(figsize=(15,6))\n",
    "plt.plot(sunspot, republican, 'o', grid_sunspot, grid_Yhat_a_2, '-')\n",
    "plt.xlabel(\"Number of Sunspots\")\n",
    "plt.ylabel(\"Number of Republicans in Congress\")\n",
    "plt.figtext(0.5, 0, \"MSE = %s\" % mse_a_2, ha=\"center\")\n",
    "plt.savefig('a_2.png')\n",
    "\n",
    "plt.figure(figsize=(15,6))\n",
    "plt.plot(sunspot, republican, 'o', grid_sunspot, grid_Yhat_c_2, '-')\n",
    "plt.xlabel(\"Number of Sunspots\")\n",
    "plt.ylabel(\"Number of Republicans in Congress\")\n",
    "plt.figtext(0.5, 0, \"MSE = %s\" % mse_c_2, ha=\"center\")\n",
    "plt.savefig('c_2.png')\n",
    "\n",
    "plt.figure(figsize=(15,6))\n",
    "plt.plot(sunspot, republican, 'o', grid_sunspot, grid_Yhat_d_2, '-')\n",
    "plt.xlabel(\"Number of Sunspots\")\n",
    "plt.ylabel(\"Number of Republicans in Congress\")\n",
    "plt.figtext(0.5, 0, \"MSE = %s\" % mse_d_2, ha=\"center\")\n",
    "plt.savefig('d_2.png')"
   ]
  }
 ],
 "metadata": {
  "kernelspec": {
   "display_name": "Python 3",
   "language": "python",
   "name": "python3"
  },
  "language_info": {
   "codemirror_mode": {
    "name": "ipython",
    "version": 3
   },
   "file_extension": ".py",
   "mimetype": "text/x-python",
   "name": "python",
   "nbconvert_exporter": "python",
   "pygments_lexer": "ipython3",
   "version": "3.6.1"
  }
 },
 "nbformat": 4,
 "nbformat_minor": 2
}
