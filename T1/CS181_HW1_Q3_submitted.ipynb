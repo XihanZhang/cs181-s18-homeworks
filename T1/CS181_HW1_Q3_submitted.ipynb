{
 "cells": [
  {
   "cell_type": "markdown",
   "metadata": {},
   "source": [
    "# CS181 HW 1 Question3 Simulation with Polynomial Features\n",
    "* 2018-02-02\n",
    "\n",
    "## Part (a) Generates N data points:\n",
    "- (1) Sample N points xi~Unif(-5,5)\n",
    "- (2) Generate a polynomial\n",
    "- (3) Compute yi = f(xi) + ei\n"
   ]
  },
  {
   "cell_type": "code",
   "execution_count": 1,
   "metadata": {
    "collapsed": true
   },
   "outputs": [],
   "source": [
    "import numpy as np\n",
    "import matplotlib.pyplot as plt\n",
    "%matplotlib inline"
   ]
  },
  {
   "cell_type": "code",
   "execution_count": 2,
   "metadata": {
    "collapsed": true
   },
   "outputs": [],
   "source": [
    "##################################################\n",
    "#       (a) function to generate sample          #\n",
    "##################################################\n",
    "\n",
    "# function to generate N samples with K_true polynomials\n",
    "def poly_sample(N,K_true):\n",
    "    \n",
    "    # generate matrix with xi: 1.0, xi\n",
    "    x = np.random.uniform(-5,5,N)            # 1 row of xi under Unif(-5, 5)\n",
    "    x_offset = np.vstack((np.ones(x.shape), x)).T   # 1st column: 1.0  2nd column: xi\n",
    "    \n",
    "    # make polynomial features (xi --> 1*a0, xi*a1, xi^2*a2, xi^3*a3...xi^K_true*a_true)\n",
    "    x_poly = []\n",
    "    for xi in x_offset:\n",
    "        # the 1st column: 1.0 -->a0\n",
    "        x_row = []\n",
    "        x_row.append(np.random.uniform(-1,1))\n",
    "        # turn the 2nd column to more columns: xi --> xi*a1, xi^2*a2, xi^3*a3...xi^K_true*a_true\n",
    "        for k in range(K_true):\n",
    "            x_row.append(np.random.uniform(-1,1)*(xi[1]**(k+1)))\n",
    "        x_poly.append(x_row)\n",
    "    \n",
    "    # calculate f(x)\n",
    "    f = []\n",
    "    for xi in x_poly:\n",
    "        f.append(sum(xi))\n",
    "    f_x = [[i] for i in f]  # convert row to column\n",
    "    \n",
    "    # calculate sigma\n",
    "    sigma = ((max(f)-min(f))/10)**(1/2)\n",
    "    \n",
    "    # calculate y\n",
    "    y = []\n",
    "    for fi in f:\n",
    "        e = np.random.normal(loc=0.0, scale=sigma)\n",
    "        y.append(fi+e)\n",
    "    y_x = [[i] for i in y]  # convert row to column\n",
    "\n",
    "    # x: 1 row of 20 xi    x_poly: 20 rows of [1*a0, xi*a1, xi^2*a2, xi^3*a3...xi^K_true*a_true]\n",
    "    # f: 1 row of 20 fi    f_x: 1 column of 20 fi\n",
    "    # y: 1 row of 20 yi    y_x: 1 column of 20 yi\n",
    "    \n",
    "    return x, y, sigma"
   ]
  },
  {
   "cell_type": "code",
   "execution_count": 3,
   "metadata": {
    "collapsed": true
   },
   "outputs": [],
   "source": [
    "############################################################################\n",
    "#   (b) function that minimizes chi-square for a polynomial of degree K    #\n",
    "############################################################################\n",
    "\n",
    "# function to calculate Chi-square:\n",
    "def Chi_square(N, x, y, K, sigma):\n",
    "    # calculate coefficient a={a0, a1, a2, ..., aK}\n",
    "    a = np.polyfit(x,y,K,full=True)[0]\n",
    "    \n",
    "    # calculate sum of square error\n",
    "    #if N >= 17:\n",
    "    if len(np.polyfit(x,y,K,full=True)[1])==0:\n",
    "        SSE = 0\n",
    "    else:\n",
    "        [SSE] = np.polyfit(x,y,K,full=True)[1]\n",
    "    \n",
    "    # calculate Chi-square error\n",
    "    Chi = SSE/((sigma)**2)\n",
    "    \n",
    "    return Chi"
   ]
  },
  {
   "cell_type": "code",
   "execution_count": 4,
   "metadata": {},
   "outputs": [
    {
     "data": {
      "image/png": "[encoded data removed]",
      "text/plain": [
       "<matplotlib.figure.Figure at 0x10f1852e8>"
      ]
     },
     "metadata": {},
     "output_type": "display_data"
    }
   ],
   "source": [
    "\n",
    "###### plot Chi-square(K) to make sure the function is decreasing when N = 20 #####\n",
    "\n",
    "# generate N=20 samples with K_true=10 polynomials\n",
    "N = 20\n",
    "K_true = 10\n",
    "x,y,sigma = poly_sample(N=20,K_true=10)\n",
    "# get x: K_test = [1, 2, 3, 4, 5, 6, 7, 8, 9, 10, 11, 12, 13, 14, 15]  y: Chi-square\n",
    "K_test = []\n",
    "Chi_test = []\n",
    "for t in range(K_true+5):\n",
    "    K_test.append(t+1)\n",
    "    Chi_test.append(Chi_square(N, x, y, K_test[t], sigma))\n",
    "    \n",
    "# plot K vs Chi-square\n",
    "plt.figure(figsize=(15,6))\n",
    "plt.plot(K_test, Chi_test, 'o')\n",
    "plt.xlabel(\"K\")\n",
    "plt.ylabel(\"Chi-square error\")\n",
    "plt.savefig('3_b.png')"
   ]
  },
  {
   "cell_type": "code",
   "execution_count": 5,
   "metadata": {
    "collapsed": true
   },
   "outputs": [],
   "source": [
    "##################################################\n",
    "#       (c) mean and variance of optimal K       #\n",
    "##################################################\n",
    "# function to select optimal K for 1 trial:\n",
    "def optimal_K(x, y, sigma):\n",
    "    \n",
    "    K_set = []       # K_set = [1,2,3,...,K_true,K_true+1,...,K_true+5]\n",
    "    BIC_set = []     # BIC_set = [BIC_1,BIC_2,...,BIC_K_True+5]\n",
    "    for t in range(K_true):\n",
    "        # generate set of K\n",
    "        K_set.append(t+1)                         # K_set[t]: K\n",
    "        \n",
    "        # calculate BIC of each K\n",
    "        Chi_sq = Chi_square(N, x, y, K_set[t], sigma)   # Chi_sq: arg(min)Chi-square\n",
    "        BIC = Chi_sq + (K_set[t]+1)*np.log(N)\n",
    "        \n",
    "        # generate set of BIC\n",
    "        BIC_set.append(BIC)\n",
    "    \n",
    "    # get the indext of the minumum BIC\n",
    "    ID = BIC_set.index(min(BIC_set))\n",
    "    # get the optimal K\n",
    "    K_optimal = K_set[ID]\n",
    "    \n",
    "    return K_optimal #,BIC_set, K_set"
   ]
  },
  {
   "cell_type": "code",
   "execution_count": 6,
   "metadata": {
    "collapsed": true
   },
   "outputs": [],
   "source": [
    "# function to run T tials with N sample and calculate mean & variance of optimal K\n",
    "def simulate_T(T, N, K_true):\n",
    "    \n",
    "    K_optimals = []     # store K_optimal for each trial\n",
    "    trial = []          # store trial ID \n",
    "    \n",
    "    # loop 200 times\n",
    "    for t in range(T):\n",
    "        trial.append(t)                       # trail = [0, 1, 2, 3, ..., 199]\n",
    "        x, y, sigma = poly_sample(N,K_true)   # make N samples \n",
    "        K_optimal = optimal_K(x, y, sigma)    # select K_optimal\n",
    "        K_optimals.append(K_optimal)          # store K_optimal in K_optimals\n",
    "    \n",
    "    # calculate mean of K_optimals:\n",
    "    K_optimal_mean = np.mean(K_optimals)\n",
    "    \n",
    "    # calculate variance of K_optimals:\n",
    "    K_optimal_var = np.var(K_optimals)\n",
    "    \n",
    "    return K_optimal_mean, K_optimal_var#,  K_optimals"
   ]
  },
  {
   "cell_type": "code",
   "execution_count": 8,
   "metadata": {},
   "outputs": [
    {
     "name": "stdout",
     "output_type": "stream",
     "text": [
      "The mean of optimal K over 500 trials is 9.99\n",
      "The varriance of optimal K over 500 trials is 0.0139\n"
     ]
    }
   ],
   "source": [
    "# run 500 trials with N=20, K_true=10\n",
    "K_optimal_mean, K_optimal_var = simulate_T(T=500, N=20, K_true=10)\n",
    "print(\"The mean of optimal K over 500 trials is %s\" % K_optimal_mean)\n",
    "print(\"The varriance of optimal K over 500 trials is %s\" % K_optimal_var)"
   ]
  },
  {
   "cell_type": "code",
   "execution_count": 9,
   "metadata": {
    "collapsed": true
   },
   "outputs": [],
   "source": [
    "##################################################\n",
    "#           (d) plot optimal_K vs N              #\n",
    "##################################################\n",
    "# function to run T tials with N sample and calculate mean & variance of optimal K\n",
    "def simulate_T_N(T, e_N_max, K_true):\n",
    "    \n",
    "    K_means = []                                          # y:   store K_mean for each trial\n",
    "    K_vars = []                                           # bar: store K_var for each trial\n",
    "    Ns = np.rint(3*np.logspace(0,e_N_max,40)).astype(int) # x:   store N in Ns\n",
    "    \n",
    "    for N in Ns:\n",
    "        K_mean, K_var = simulate_T(T, N, K_true)  # mean & varriance of optimal K of 500 trials\n",
    "        K_means.append(K_mean)                    # store K_mean in K_means\n",
    "        K_vars.append(K_var)                      # store K_var in K_vars\n",
    "    return K_means, K_vars, Ns\n"
   ]
  },
  {
   "cell_type": "code",
   "execution_count": 10,
   "metadata": {},
   "outputs": [],
   "source": [
    "# do the final simulation\n",
    "K_means, K_vars, Ns = simulate_T_N(T=500, e_N_max=4, K_true=10)"
   ]
  },
  {
   "cell_type": "code",
   "execution_count": 16,
   "metadata": {},
   "outputs": [
    {
     "data": {
      "image/png": "[encoded data removed]",
      "text/plain": [
       "<matplotlib.figure.Figure at 0x1135fd8d0>"
      ]
     },
     "metadata": {},
     "output_type": "display_data"
    }
   ],
   "source": [
    "# plot mean of K with error bar vs. sample size N\n",
    "plt.figure(figsize=(15,6))\n",
    "plt.errorbar(Ns, K_means, yerr=K_vars, fmt='o')\n",
    "plt.xlabel(\"Sample Size (N)\")\n",
    "plt.ylabel(\"Mean Optimal K of 500 Trials\")\n",
    "plt.xscale('log')\n",
    "plt.savefig('3_d.png')\n"
   ]
  }
 ],
 "metadata": {
  "kernelspec": {
   "display_name": "Python 3",
   "language": "python",
   "name": "python3"
  },
  "language_info": {
   "codemirror_mode": {
    "name": "ipython",
    "version": 3
   },
   "file_extension": ".py",
   "mimetype": "text/x-python",
   "name": "python",
   "nbconvert_exporter": "python",
   "pygments_lexer": "ipython3",
   "version": "3.6.1"
  }
 },
 "nbformat": 4,
 "nbformat_minor": 2
}
